{
 "cells": [
  {
   "cell_type": "code",
   "execution_count": 3,
   "id": "a5bd1284",
   "metadata": {},
   "outputs": [],
   "source": [
    "import numpy as np\n",
    "import pandas as pd\n",
    "from tensorflow.keras.models import load_model\n",
    "import pickle"
   ]
  },
  {
   "cell_type": "code",
   "execution_count": 4,
   "id": "46cd9ed0",
   "metadata": {},
   "outputs": [],
   "source": [
    "df_test   = pd.read_csv(\"../data/test.csv\")\n",
    "df_labels = pd.read_csv(\"../data/test_labels.csv\")"
   ]
  },
  {
   "cell_type": "code",
   "execution_count": 5,
   "id": "53c28ce1",
   "metadata": {},
   "outputs": [],
   "source": [
    "with open(\"../models/tokenizer.pkl\", \"rb\") as f:\n",
    "    tokenizer = pickle.load(f)"
   ]
  },
  {
   "cell_type": "code",
   "execution_count": 6,
   "id": "23be7376",
   "metadata": {},
   "outputs": [],
   "source": [
    "from tensorflow.keras.preprocessing.sequence import pad_sequences\n",
    "\n",
    "X_test_seq = tokenizer.texts_to_sequences(df_test['comment_text'].fillna(\"\"))\n",
    "X_test = pad_sequences(X_test_seq, maxlen=150)"
   ]
  },
  {
   "cell_type": "code",
   "execution_count": 7,
   "id": "8c110fdb",
   "metadata": {},
   "outputs": [
    {
     "name": "stderr",
     "output_type": "stream",
     "text": [
      "WARNING:absl:Compiled the loaded model, but the compiled metrics have yet to be built. `model.compile_metrics` will be empty until you train or evaluate the model.\n"
     ]
    }
   ],
   "source": [
    "model = load_model(\"../models/best_model.h5\")"
   ]
  },
  {
   "cell_type": "code",
   "execution_count": 8,
   "id": "f6d566cb",
   "metadata": {},
   "outputs": [
    {
     "name": "stdout",
     "output_type": "stream",
     "text": [
      "\u001b[1m4787/4787\u001b[0m \u001b[32m━━━━━━━━━━━━━━━━━━━━\u001b[0m\u001b[37m\u001b[0m \u001b[1m56s\u001b[0m 12ms/step\n"
     ]
    }
   ],
   "source": [
    "y_pred = model.predict(X_test)"
   ]
  },
  {
   "cell_type": "code",
   "execution_count": 9,
   "id": "c3bf638d",
   "metadata": {},
   "outputs": [],
   "source": [
    "y_pred_binary = (y_pred > 0.5).astype(int)"
   ]
  },
  {
   "cell_type": "code",
   "execution_count": 10,
   "id": "07c62b2c",
   "metadata": {},
   "outputs": [],
   "source": [
    "valid_rows = df_labels[df_labels['toxic'] != -1].index\n",
    "\n",
    "y_true = df_labels.loc[valid_rows, ['toxic', 'severe_toxic', 'obscene', 'threat', 'insult', 'identity_hate']].values\n",
    "y_eval = y_pred_binary[valid_rows]"
   ]
  },
  {
   "cell_type": "code",
   "execution_count": 11,
   "id": "e44308e4",
   "metadata": {},
   "outputs": [
    {
     "name": "stdout",
     "output_type": "stream",
     "text": [
      "               precision    recall  f1-score   support\n",
      "\n",
      "        toxic       0.58      0.72      0.64      6090\n",
      " severe_toxic       0.36      0.11      0.17       367\n",
      "      obscene       0.61      0.71      0.66      3691\n",
      "       threat       0.00      0.00      0.00       211\n",
      "       insult       0.59      0.50      0.54      3427\n",
      "identity_hate       0.89      0.01      0.02       712\n",
      "\n",
      "    micro avg       0.59      0.61      0.60     14498\n",
      "    macro avg       0.51      0.34      0.34     14498\n",
      " weighted avg       0.59      0.61      0.57     14498\n",
      "  samples avg       0.06      0.06      0.06     14498\n",
      "\n"
     ]
    },
    {
     "name": "stderr",
     "output_type": "stream",
     "text": [
      "c:\\Users\\LAKSHAY JAIN\\Downloads\\CODING\\DATA SCIENCE\\PROJECTS\\venv\\Lib\\site-packages\\sklearn\\metrics\\_classification.py:1706: UndefinedMetricWarning: Precision is ill-defined and being set to 0.0 in labels with no predicted samples. Use `zero_division` parameter to control this behavior.\n",
      "  _warn_prf(average, modifier, f\"{metric.capitalize()} is\", result.shape[0])\n",
      "c:\\Users\\LAKSHAY JAIN\\Downloads\\CODING\\DATA SCIENCE\\PROJECTS\\venv\\Lib\\site-packages\\sklearn\\metrics\\_classification.py:1706: UndefinedMetricWarning: Precision is ill-defined and being set to 0.0 in samples with no predicted labels. Use `zero_division` parameter to control this behavior.\n",
      "  _warn_prf(average, modifier, f\"{metric.capitalize()} is\", result.shape[0])\n",
      "c:\\Users\\LAKSHAY JAIN\\Downloads\\CODING\\DATA SCIENCE\\PROJECTS\\venv\\Lib\\site-packages\\sklearn\\metrics\\_classification.py:1706: UndefinedMetricWarning: Recall is ill-defined and being set to 0.0 in samples with no true labels. Use `zero_division` parameter to control this behavior.\n",
      "  _warn_prf(average, modifier, f\"{metric.capitalize()} is\", result.shape[0])\n",
      "c:\\Users\\LAKSHAY JAIN\\Downloads\\CODING\\DATA SCIENCE\\PROJECTS\\venv\\Lib\\site-packages\\sklearn\\metrics\\_classification.py:1706: UndefinedMetricWarning: F-score is ill-defined and being set to 0.0 in samples with no true nor predicted labels. Use `zero_division` parameter to control this behavior.\n",
      "  _warn_prf(average, modifier, f\"{metric.capitalize()} is\", result.shape[0])\n"
     ]
    }
   ],
   "source": [
    "from sklearn.metrics import classification_report\n",
    "\n",
    "print(classification_report(y_true, y_eval, target_names=[\n",
    "    \"toxic\", \"severe_toxic\", \"obscene\", \"threat\", \"insult\", \"identity_hate\"\n",
    "]))\n"
   ]
  },
  {
   "cell_type": "code",
   "execution_count": 14,
   "id": "4a060626",
   "metadata": {},
   "outputs": [
    {
     "name": "stdout",
     "output_type": "stream",
     "text": [
      "\u001b[1m1/1\u001b[0m \u001b[32m━━━━━━━━━━━━━━━━━━━━\u001b[0m\u001b[37m\u001b[0m \u001b[1m0s\u001b[0m 34ms/step\n",
      "\n",
      "Comment: You are a disgusting person and a disgrace.\n",
      "toxic          : 0.66\n",
      "severe_toxic   : 0.10\n",
      "obscene        : 0.44\n",
      "threat         : 0.04\n",
      "insult         : 0.42\n",
      "identity_hate  : 0.06\n",
      "\n",
      "Comment: I love your work. Thank you!\n",
      "toxic          : 0.10\n",
      "severe_toxic   : 0.00\n",
      "obscene        : 0.03\n",
      "threat         : 0.00\n",
      "insult         : 0.03\n",
      "identity_hate  : 0.00\n",
      "\n",
      "Comment: I'm going to find you and hurt you.\n",
      "toxic          : 0.07\n",
      "severe_toxic   : 0.00\n",
      "obscene        : 0.01\n",
      "threat         : 0.00\n",
      "insult         : 0.01\n",
      "identity_hate  : 0.00\n"
     ]
    }
   ],
   "source": [
    "comments = [\n",
    "    \"You are a disgusting person and a disgrace.\",\n",
    "    \"I love your work. Thank you!\",\n",
    "    \"I'm going to find you and hurt you.\",\n",
    "]\n",
    "\n",
    "seq = tokenizer.texts_to_sequences(comments)\n",
    "padded = pad_sequences(seq, maxlen=150)\n",
    "preds = model.predict(padded)\n",
    "\n",
    "for comment, pred in zip(comments, preds):\n",
    "    print(f\"\\nComment: {comment}\")\n",
    "    for label, prob in zip([\"toxic\", \"severe_toxic\", \"obscene\", \"threat\", \"insult\", \"identity_hate\"], pred):\n",
    "        print(f\"{label:15}: {prob:.2f}\")\n"
   ]
  },
  {
   "cell_type": "code",
   "execution_count": 15,
   "id": "55f2d7f2",
   "metadata": {},
   "outputs": [
    {
     "name": "stderr",
     "output_type": "stream",
     "text": [
      "WARNING:absl:You are saving your model as an HDF5 file via `model.save()` or `keras.saving.save_model(model)`. This file format is considered legacy. We recommend using instead the native Keras format, e.g. `model.save('my_model.keras')` or `keras.saving.save_model(model, 'my_model.keras')`. \n"
     ]
    }
   ],
   "source": [
    "# Save trained model\n",
    "model.save(\"../models/final_model.h5\")\n",
    "\n",
    "# Save tokenizer\n",
    "import pickle\n",
    "with open(\"../models/final_tokenizer.pkl\", \"wb\") as f:\n",
    "    pickle.dump(tokenizer, f)\n"
   ]
  },
  {
   "cell_type": "code",
   "execution_count": null,
   "id": "e8f37d35",
   "metadata": {},
   "outputs": [],
   "source": []
  }
 ],
 "metadata": {
  "kernelspec": {
   "display_name": "venv",
   "language": "python",
   "name": "python3"
  },
  "language_info": {
   "codemirror_mode": {
    "name": "ipython",
    "version": 3
   },
   "file_extension": ".py",
   "mimetype": "text/x-python",
   "name": "python",
   "nbconvert_exporter": "python",
   "pygments_lexer": "ipython3",
   "version": "3.12.2"
  }
 },
 "nbformat": 4,
 "nbformat_minor": 5
}
